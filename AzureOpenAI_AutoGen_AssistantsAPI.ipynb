{
 "cells": [
  {
   "cell_type": "markdown",
   "metadata": {},
   "source": [
    "# AutoGen + Assistants API DEMO\n",
    "AutoGen で検証したマルチエージェントと Assistants API で開発したエージェントを接続します。\n",
    "\n",
    "## 必要条件\n",
    "- Assistants API で作成した[トラベルアシスタント](./AzureOpenAI_AssistantsAPI_Python.ipynb)\n",
    "- GPT-4 Turbo with Vision モデル\n",
    "- gpt-4-1106-preview モデル（Assistants API 用）*Azure OpenAI の場合\n",
    "- gpt-4-0125-preview モデル（AutoGen の Agent 用）"
   ]
  },
  {
   "cell_type": "code",
   "execution_count": null,
   "metadata": {},
   "outputs": [],
   "source": [
    "!pip install pyautogen --upgrade"
   ]
  },
  {
   "cell_type": "code",
   "execution_count": null,
   "metadata": {},
   "outputs": [],
   "source": [
    "import autogen\n",
    "print(autogen.__version__)"
   ]
  },
  {
   "cell_type": "markdown",
   "metadata": {},
   "source": [
    "# 1. トラベルアシスタントの実装"
   ]
  },
  {
   "cell_type": "markdown",
   "metadata": {},
   "source": [
    "`OAI_CONFIG_LIST` の設定\n",
    "https://microsoft.github.io/autogen/docs/topics/llm_configuration"
   ]
  },
  {
   "cell_type": "code",
   "execution_count": null,
   "metadata": {},
   "outputs": [],
   "source": [
    "import os\n",
    "\n",
    "from autogen import AssistantAgent, UserProxyAgent, config_list_from_json\n",
    "from autogen.agentchat.contrib.gpt_assistant_agent import GPTAssistantAgent\n",
    "\n",
    "assistant_id = \"<Your assistant_id>\" #Azure OpenAI\n",
    "config_list = config_list_from_json(\"OAI_CONFIG_LIST\")\n"
   ]
  },
  {
   "cell_type": "code",
   "execution_count": null,
   "metadata": {},
   "outputs": [],
   "source": [
    "config_list"
   ]
  },
  {
   "cell_type": "markdown",
   "metadata": {},
   "source": [
    "## GPTAssistantAgent の作成\n",
    "まだ実験的な実装ではありますが、AutoGen では Assistants API で作成したエージェントを `GPTAssistantAgent` として加えることができます。[第 1 回](./AzureOpenAI_AssistantsAPI_Python.ipynb)で開発した Assistants API の `assistant_id` を llm_config にセットします。"
   ]
  },
  {
   "cell_type": "code",
   "execution_count": null,
   "metadata": {},
   "outputs": [],
   "source": [
    "llm_config = {\"config_list\": config_list, \"assistant_id\": assistant_id, \"verbose\": True}\n",
    "\n",
    "gpt_assistant = GPTAssistantAgent(\n",
    "    name=\"Travel Assistant\", instructions=\"あなたはトラベルエージェントの質問応答に対応します。\", llm_config=llm_config,\n",
    ")\n",
    "\n",
    "gpt_assistant"
   ]
  },
  {
   "cell_type": "markdown",
   "metadata": {},
   "source": [
    "ログの機能を有効にします。以下のようにすることですべての LLM 実行ログを SQLite database に保存してくれます。"
   ]
  },
  {
   "cell_type": "code",
   "execution_count": null,
   "metadata": {},
   "outputs": [],
   "source": [
    "logging_session_id = autogen.runtime_logging.start(config={\"dbname\": \"logs.db\"})\n",
    "print(\"Logging session ID: \" + str(logging_session_id))"
   ]
  },
  {
   "cell_type": "markdown",
   "metadata": {},
   "source": [
    "## スレッド ID の取得\n",
    "`GPTAssistantAgent` が自動的に作成したスレッドの ID は以下のようにして取得することができます。"
   ]
  },
  {
   "cell_type": "code",
   "execution_count": null,
   "metadata": {},
   "outputs": [],
   "source": [
    "gpt_assistant.oai_threads"
   ]
  },
  {
   "cell_type": "markdown",
   "metadata": {},
   "source": [
    "## ホットペッパーAPIの実装\n",
    "https://webservice.recruit.co.jp/doc/hotpepper/reference.html"
   ]
  },
  {
   "cell_type": "code",
   "execution_count": null,
   "metadata": {},
   "outputs": [],
   "source": [
    "import requests\n",
    "\n",
    "def search_hotpepper_shops(keyword=None, private_room=0, start=1, count=3, response_format='json'):\n",
    "    base_url = \"http://webservice.recruit.co.jp/hotpepper/gourmet/v1/\"\n",
    "    params = {\n",
    "        \"key\": \"<Your API Key>\",  # 取得したAPIキーを指定\n",
    "        \"format\": response_format,\n",
    "        \"start\": start,\n",
    "        \"count\": count,\n",
    "        \"private_room\": private_room,  # 個室ありの店舗のみを検索, 0:絞り込まない, 1:絞り込む\n",
    "        #\"budget\": \"B005\"\n",
    "    }\n",
    "    \n",
    "    # キーワードが指定されている場合、パラメータに追加\n",
    "    if keyword:\n",
    "        params[\"keyword\"] = keyword\n",
    "        \n",
    "    print(\"keyword:\", keyword)\n",
    "    response = requests.get(base_url, params=params)\n",
    "    \n",
    "    # レスポンス形式に応じて結果を処理\n",
    "    if response_format == 'json':\n",
    "\n",
    "        shops = []\n",
    "        for s in response.json()[\"results\"][\"shop\"]:\n",
    "            shop = {\"name\": s[\"name\"],\n",
    "                    \"address\": s[\"address\"],\n",
    "                    \"station_name\": s[\"station_name\"],\n",
    "                    \"access\": s[\"access\"],\n",
    "                    \"genre\": s[\"genre\"],\n",
    "                    \"budgetAverage\": s[\"budget\"][\"average\"],\n",
    "                    \"open\": s[\"open\"],\n",
    "                    \"close\": s[\"close\"],\n",
    "                    \"url\": s[\"urls\"][\"pc\"]\n",
    "            }\n",
    "            shops.append(shop)\n",
    "        \n",
    "        return shops#response.json()  # JSON形式のレスポンスを返す\n",
    "    else:\n",
    "        return response.text  # XML形式の場合は、レスポンスのテキストをそのまま返す"
   ]
  },
  {
   "cell_type": "markdown",
   "metadata": {},
   "source": [
    "## 楽天トラベル空室検索APIの実装\n",
    "\n",
    "https://webservice.rakuten.co.jp/documentation/vacant-hotel-search\n"
   ]
  },
  {
   "cell_type": "code",
   "execution_count": null,
   "metadata": {},
   "outputs": [],
   "source": [
    "import requests\n",
    "\n",
    "def search_vacant_hotels(latitude, longitude, searchRadius, checkinDate, checkoutDate, maxCharge=50000, adultNum=1, page=1, hits=2, response_format='json'):\n",
    "    base_url = \"https://app.rakuten.co.jp/services/api/Travel/VacantHotelSearch/20170426\"\n",
    "    params = {\n",
    "        \"applicationId\": \"<Your applicationId>\",  # 取得した applicationId を指定\n",
    "        \"format\": response_format,\n",
    "        \"page\": page,\n",
    "        \"hits\": hits,\n",
    "        \"latitude\": latitude, # ex:35.6065914\n",
    "        \"longitude\": longitude, # ex:139.7513225\n",
    "        \"searchRadius\": searchRadius,  #緯度経度検索時の検索半径(単位km), 0.1 to 3.0\n",
    "        \"datumType\": 1, # WGS84\n",
    "        \"checkinDate\": checkinDate, # yyyy-MM-dd\n",
    "        \"checkoutDate\": checkoutDate, # yyyy-MM-dd\n",
    "        \"maxCharge\": maxCharge, # 上限金額, int 0 to 999999999\n",
    "        \"adultNum\": adultNum # 宿泊者数, int 1 to 99\n",
    "    }\n",
    "    \n",
    "    response = requests.get(base_url, params=params)\n",
    "    \n",
    "    # レスポンス形式に応じて結果を処理\n",
    "    if response_format == 'json':\n",
    "        response_data = response.json()\n",
    "\n",
    "        if 'error' in response_data:\n",
    "            error_description = response_data.get('error_description', 'No error description provided.')\n",
    "            error = response_data.get('error', 'Unknown error')\n",
    "            \n",
    "            # エラーメッセージを処理（またはログに記録）\n",
    "            print(f\"Error: {error}, Description: {error_description}\")\n",
    "            \n",
    "            # エラー情報を含むレスポンスオブジェクトまたはメッセージを返す\n",
    "            return {\"error\": error, \"error_description\": error_description}\n",
    "        else:\n",
    "            # エラーがない場合は、通常通りレスポンスデータを返す\n",
    "            hotels = []\n",
    "            for hotel_group in response_data[\"hotels\"]:\n",
    "                h = hotel_group[\"hotel\"][0][\"hotelBasicInfo\"]\n",
    "                rooms = []\n",
    "                for item in hotel_group[\"hotel\"][1:]:\n",
    "                    if \"roomInfo\" in item:\n",
    "                        roomplans = {\"roomName\": item[\"roomInfo\"][0][\"roomBasicInfo\"][\"roomName\"],\n",
    "                            \"stayDate\": item[\"roomInfo\"][1][\"dailyCharge\"][\"stayDate\"],\n",
    "                            \"rakutenCharge\": item[\"roomInfo\"][1][\"dailyCharge\"][\"rakutenCharge\"]}\n",
    "                        rooms.append(roomplans)\n",
    "\n",
    "                hotel = {\"hotelNo\": h[\"hotelNo\"],\n",
    "                        \"hotelName\": h[\"hotelName\"],\n",
    "                        \"hotelSpecial\": h[\"hotelSpecial\"],\n",
    "                        \"access\": h[\"access\"],\n",
    "                        \"reviewAverage\": h[\"reviewAverage\"],\n",
    "                        \"hotelInformationUrl\": h[\"hotelInformationUrl\"],\n",
    "                        \"roomplans\": rooms}\n",
    "                hotels.append(hotel)\n",
    "            \n",
    "            return hotels\n",
    "    else:\n",
    "        return response.text  # XML形式の場合は、レスポンスのテキストをそのまま返す\n"
   ]
  },
  {
   "cell_type": "markdown",
   "metadata": {},
   "source": [
    "上記のようにして、Assistants API の Tool 選択結果を実行する関数を定義し、`register_function` で登録します。これにより AutoGen が関数を実行し実行結果を Assistants API 側に返却します。"
   ]
  },
  {
   "cell_type": "code",
   "execution_count": null,
   "metadata": {},
   "outputs": [],
   "source": [
    "gpt_assistant.register_function(\n",
    "    function_map={\n",
    "        \"search_hotpepper_shops\": search_hotpepper_shops,\n",
    "        \"search_vacant_hotels\": search_vacant_hotels,\n",
    "    }\n",
    ")"
   ]
  },
  {
   "cell_type": "markdown",
   "metadata": {},
   "source": [
    "# 2. 出張申請アシスタントの実装\n",
    "## MultimodalConversableAgent の作成\n",
    "今回は出張で使った飲食代のレシートを出張申請システムに登録するシナリオを考えます。レシートの写真をアップロードして、GPT-4 Turbo with Vision(GPT-4V) がその中の項目を適切に読み取ってから、申請システムの項目にマッピングできれば OK です。このシナリオに `ConversableAgent` クラスまで使う意味はあまりありませんが、\n",
    "ただ `MultimodalConversableAgent` を使ってみたかっただけのために強引に使っています。"
   ]
  },
  {
   "cell_type": "markdown",
   "metadata": {},
   "source": [
    "モデル設定のロード"
   ]
  },
  {
   "cell_type": "code",
   "execution_count": null,
   "metadata": {},
   "outputs": [],
   "source": [
    "config_list_4v = autogen.config_list_from_json(\n",
    "    \"OAI_CONFIG_LIST\",\n",
    "    filter_dict={\n",
    "        \"model\": [\"gpt-4-v\"],\n",
    "    },\n",
    ")"
   ]
  },
  {
   "cell_type": "code",
   "execution_count": null,
   "metadata": {},
   "outputs": [],
   "source": [
    "from autogen.agentchat.contrib.multimodal_conversable_agent import MultimodalConversableAgent\n",
    "\n",
    "image_agent = MultimodalConversableAgent(\n",
    "    name=\"image-explainer\",\n",
    "    system_message = \"画像を説明することのみ行うエージェントです。そのほかの質問が含まれる場合はその質問だけ無視して、画像説明のみ行います。\",\n",
    "    max_consecutive_auto_reply=1,\n",
    "    llm_config={\"config_list\": config_list_4v, \"temperature\": 0, \"max_tokens\": 1000},\n",
    ")"
   ]
  },
  {
   "cell_type": "markdown",
   "metadata": {},
   "source": [
    "## 実際に申請処理を行うエージェント\n",
    "GPT-4V によるレシート読み取り結果を、バックエンドの申請システムへ登録するエージェントです。今回あえて `MultimodalConversableAgent` を使ったため仕方なく `AssistantAgent` として実装しました。この `AssistantAgent` が Function calling によって登録関数をコールします。"
   ]
  },
  {
   "cell_type": "code",
   "execution_count": null,
   "metadata": {},
   "outputs": [],
   "source": [
    "config_list_0125 = autogen.config_list_from_json(\n",
    "    \"OAI_CONFIG_LIST\",\n",
    "    filter_dict={\n",
    "        \"model\": [\"gpt-4-0125-preview\"],\n",
    "    },\n",
    ")\n",
    "\n",
    "llm_config_0125 = {\n",
    "    \"functions\": [\n",
    "        {\n",
    "            \"name\": \"register_receipt_info\",\n",
    "            \"description\": \"Register receipt information\",\n",
    "            \"parameters\": {\n",
    "                \"type\": \"object\",\n",
    "                \"properties\": {\n",
    "                    \"shopname\": {\n",
    "                        \"type\": \"string\",\n",
    "                        \"description\": \"the name of the shop\",\n",
    "                    },\n",
    "                    \"shopaddress\": {\n",
    "                        \"type\": \"string\",\n",
    "                        \"description\": \"the address of the shop\",\n",
    "                    },\n",
    "                    \"transactiondate\": {\n",
    "                        \"type\": \"string\",\n",
    "                        \"description\": \"the date and time of the transaction\",\n",
    "                    },\n",
    "                    \"purchaselist\": {\n",
    "                        \"type\": \"string\",\n",
    "                        \"description\": 'Purchase list, JSON schema of arguments encoded as a string. For example: \\'{\"items\": [{\"name\": \"postcard\", \"price\": 2000}, {\"name\": \"candy\", \"price\": 1500}, {\"name\": \"beer\", \"price\": 500, \"quantity\": 2}]}\\' ',\n",
    "                    },\n",
    "                    \"totalamount\": {\n",
    "                        \"type\": \"string\",\n",
    "                        \"description\": \"the total amount of the purchase\",\n",
    "                    },\n",
    "                },\n",
    "                \"required\": [\"shopname\", \"shopaddress\", \"transactiondate\", \"purchaselist\", \"totalamount\"],\n",
    "            },\n",
    "        },\n",
    "    ],\n",
    "    \"config_list\": config_list_0125\n",
    "}\n",
    "\n",
    "register_receipt_assistant = AssistantAgent(\n",
    "    name=\"register_receipt_assistant\",\n",
    "    system_message=\"\"\"You are an assistant who applies for receipts.\n",
    "        After obtaining the receipt information, call the application function to apply.\n",
    "        You may use the provided functions before providing a final answer.\n",
    "        Only use the functions you were provided.\n",
    "        When the answer has been provided, reply TERMINATE.\"\"\",\n",
    "    llm_config=llm_config_0125,\n",
    ")"
   ]
  },
  {
   "cell_type": "markdown",
   "metadata": {},
   "source": [
    "`register_receipt_info` 関数はスタブです。"
   ]
  },
  {
   "cell_type": "code",
   "execution_count": null,
   "metadata": {},
   "outputs": [],
   "source": [
    "def register_receipt_info(shopname, shopaddress, transactiondate, purchaselist, totalamount):\n",
    "    print(f\"Receipt information registered: {shopname}, {shopaddress}, {transactiondate}, {purchaselist}, {totalamount}\")   \n",
    "    return {\"result\": \"Receipt information registered.\"}\n",
    "\n",
    "register_receipt_assistant.register_function(function_map={\"register_receipt_info\": register_receipt_info})"
   ]
  },
  {
   "cell_type": "markdown",
   "metadata": {},
   "source": [
    "# 3. マルチエージェントの構築\n",
    "第 2 回で検証したマルチエージェントを `GroupChat` と `GroupChatManager` を用いて実装していきます"
   ]
  },
  {
   "cell_type": "code",
   "execution_count": null,
   "metadata": {},
   "outputs": [],
   "source": [
    "user_proxy = UserProxyAgent(\n",
    "    name=\"user_proxy\",\n",
    "    code_execution_config={\n",
    "        \"work_dir\": \"coding\",\n",
    "        \"use_docker\": False,\n",
    "    },  # Please set use_docker=True if docker is available to run the generated code. Using docker is safer than running the generated code directly.\n",
    "    is_termination_msg=lambda msg: \"TERMINATE\" in msg[\"content\"],\n",
    "    human_input_mode=\"NEVER\",\n",
    "    max_consecutive_auto_reply=0,\n",
    ")"
   ]
  },
  {
   "cell_type": "markdown",
   "metadata": {},
   "source": [
    "生成されたコードを実行するために docker が利用できる場合は use_docker=True を設定してください。dockerを使用すると、生成されたコードを直接実行するよりも安全です。"
   ]
  },
  {
   "cell_type": "code",
   "execution_count": null,
   "metadata": {},
   "outputs": [],
   "source": [
    "groupchat = autogen.GroupChat(agents=[user_proxy, image_agent, gpt_assistant, register_receipt_assistant], messages=[], max_round=2)\n",
    "groupchat"
   ]
  },
  {
   "cell_type": "code",
   "execution_count": null,
   "metadata": {},
   "outputs": [],
   "source": [
    "config_list = config_list_from_json(\"OAI_CONFIG_LIST\")\n",
    "llm_config = {\"config_list\": config_list, \"cache_seed\": 45}\n",
    "manager = autogen.GroupChatManager(groupchat=groupchat, llm_config=llm_config)"
   ]
  },
  {
   "cell_type": "markdown",
   "metadata": {},
   "source": [
    "## デフォルトのエージェント トポロジー"
   ]
  },
  {
   "cell_type": "code",
   "execution_count": null,
   "metadata": {},
   "outputs": [],
   "source": [
    "import matplotlib.pyplot as plt  # noqa E402\n",
    "import networkx as nx  # noqa E402\n",
    "from autogen.graph_utils import visualize_speaker_transitions_dict  # noqa E402\n",
    "\n",
    "agents = [user_proxy, image_agent, gpt_assistant, register_receipt_assistant]\n",
    "allowed_speaker_transitions_dict = {agent: [other_agent for other_agent in agents] for agent in agents}\n",
    "\n",
    "visualize_speaker_transitions_dict(allowed_speaker_transitions_dict, agents)"
   ]
  },
  {
   "cell_type": "markdown",
   "metadata": {},
   "source": [
    "## クエリーの実行"
   ]
  },
  {
   "cell_type": "code",
   "execution_count": null,
   "metadata": {},
   "outputs": [],
   "source": [
    "user_proxy.initiate_chat(\n",
    "    manager, message=\"東京駅近辺でイタリアンのレストランを探しています\", clear_history=True\n",
    ")"
   ]
  },
  {
   "cell_type": "code",
   "execution_count": null,
   "metadata": {},
   "outputs": [],
   "source": [
    "user_proxy.initiate_chat(\n",
    "    manager, message=\"\"\"このレシートを読み取ってください。次に、このレシートの情報を登録してください。\n",
    "<img https://documentintelligence.ai.azure.com/documents/samples/prebuilt/receipt-japanese.jpg>.\"\"\"\n",
    "    , clear_history=True\n",
    ")"
   ]
  },
  {
   "cell_type": "code",
   "execution_count": null,
   "metadata": {},
   "outputs": [],
   "source": [
    "user_proxy.initiate_chat(\n",
    "    manager, message=\"2/24に大阪に1人で出張します。大阪駅近辺の当日の居酒屋と20000円以内で泊まれる大阪駅のホテルを提案してください。\", clear_history=True\n",
    ")"
   ]
  }
 ],
 "metadata": {
  "kernelspec": {
   "display_name": "py1226",
   "language": "python",
   "name": "python3"
  },
  "language_info": {
   "codemirror_mode": {
    "name": "ipython",
    "version": 3
   },
   "file_extension": ".py",
   "mimetype": "text/x-python",
   "name": "python",
   "nbconvert_exporter": "python",
   "pygments_lexer": "ipython3",
   "version": "3.10.13"
  }
 },
 "nbformat": 4,
 "nbformat_minor": 2
}
