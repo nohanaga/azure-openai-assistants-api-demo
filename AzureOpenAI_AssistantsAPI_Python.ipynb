{
 "cells": [
  {
   "cell_type": "markdown",
   "metadata": {},
   "source": [
    "# Assistants API (Python SDK)\n",
    "\n",
    "[Assistants API](https://learn.microsoft.com/azure/ai-services/openai/concepts/assistants) を使うと、データを分析し、ソリューションを提案し、タスクを自動化できる、高度な Copilot のようなエクスペリエンスを備えたアプリケーションを簡単に作成できます。\n",
    "\n",
    "ステートレスな Chat Completions API であるのに比べて、ステートフルな Assistants API は、自動的に管理される永続的なスレッドがサポートされます。つまり、会話状態管理システムを開発し、モデルのコンテキスト ウィンドウの制約を回避する必要がなくなります。さらにアシスタントは、必要に応じて複数のツールに並列アクセスすることもできます。 以下のツールが利用可能です。\n",
    "\n",
    "- Code Interpreter\n",
    "- Function calling（関数呼び出し）"
   ]
  },
  {
   "cell_type": "code",
   "execution_count": null,
   "metadata": {},
   "outputs": [],
   "source": [
    "!pip install --upgrade openai"
   ]
  },
  {
   "cell_type": "code",
   "execution_count": null,
   "metadata": {},
   "outputs": [],
   "source": [
    "import openai\n",
    "openai.__version__"
   ]
  },
  {
   "cell_type": "code",
   "execution_count": null,
   "metadata": {},
   "outputs": [],
   "source": [
    "from dotenv import load_dotenv\n",
    "load_dotenv()\n",
    "\n",
    "#from openai import OpenAI\n",
    "from openai import AzureOpenAI\n",
    "\n",
    "import os\n",
    "import json\n",
    "\n",
    "# IF YOU ARE USING OPENAI, UNCOMMENT THE FOLLOWING LINES\n",
    "#client = OpenAI(api_key=os.environ.get(\"OPENAI_API_KEY\", \"Your OpenAI API Key\"))\n",
    "\n",
    "# IF YOU ARE USING AZURE OPENAI, UNCOMMENT THE FOLLOWING LINES\n",
    "#os.environ[\"AZURE_OPENAI_API_KEY\"] = \"Your OpenAI API Key\"\n",
    "#os.environ[\"AZURE_OPENAI_ENDPOINT\"] = \"https://<Your OpenAI Service>.openai.azure.com/\"\n",
    "\n",
    "client = AzureOpenAI(\n",
    "    api_key=os.getenv(\"AZURE_OPENAI_API_KEY\"),\n",
    "    api_version=\"2024-02-15-preview\",\n",
    "    azure_endpoint=os.getenv(\"AZURE_OPENAI_ENDPOINT\"),\n",
    ")"
   ]
  },
  {
   "cell_type": "markdown",
   "metadata": {},
   "source": [
    "## アシスタントの作成"
   ]
  },
  {
   "cell_type": "code",
   "execution_count": null,
   "metadata": {},
   "outputs": [],
   "source": [
    "tools_list = [\n",
    "    {\n",
    "        \"type\": \"code_interpreter\"\n",
    "    },\n",
    "    {\n",
    "        \"type\": \"function\",\n",
    "        \"function\": {\n",
    "            \"name\": \"search_hotpepper_shops\",\n",
    "            \"description\": \"ホットペッパーグルメAPIを利用し、キーワードや個室の有無などのオプションフィルターで飲食店を検索できます。\",\n",
    "            \"parameters\": {\n",
    "                \"type\": \"object\",\n",
    "                \"properties\": {\n",
    "                    \"keyword\": {\n",
    "                        \"type\": \"string\",\n",
    "                        \"description\": \"飲食店を検索するためのキーワード。店名、住所、駅名、お店ジャンルなどを指定できる。ユーザーメッセージから検索キーワードとなる文字を抽出して検索クエリーにしてください。例: ###大阪駅 和食###\"\n",
    "                    },\n",
    "                    \"private_room\": {\n",
    "                        \"type\": \"integer\",\n",
    "                        \"description\": \"個室ありの店舗のみを検索, 0:絞り込まない, 1:絞り込む。オプション\",\n",
    "                        \"enum\": [0, 1]\n",
    "                    }\n",
    "                },\n",
    "                \"required\": [\"keyword\"]\n",
    "            }\n",
    "        }\n",
    "    },\n",
    "    {\n",
    "        \"type\": \"function\",\n",
    "        \"function\": {\n",
    "            \"name\": \"search_vacant_hotels\",\n",
    "            \"description\": \"楽天トラベルのAPIを使って、場所、チェックイン日、チェックアウト日、予算、大人の人数など、さまざまなフィルターで空室ホテルを検索できます。\",\n",
    "            \"parameters\": {\n",
    "                \"type\": \"object\",\n",
    "                \"properties\": {\n",
    "                    \"latitude\": {\n",
    "                        \"type\": \"number\",\n",
    "                        \"description\": \"ホテル検索場所の緯度(WGS84), ex:35.6065914\"\n",
    "                    },\n",
    "                    \"longitude\": {\n",
    "                        \"type\": \"number\",\n",
    "                        \"description\": \"ホテル検索場所の経度(WGS84), ex:139.7513225\"\n",
    "                    },\n",
    "                    \"searchRadius\": {\n",
    "                        \"type\": \"number\",\n",
    "                        \"description\": \"緯度経度検索時の検索半径(単位km), 0.1 to 3.0\"\n",
    "                    },\n",
    "                    \"checkinDate\": {\n",
    "                        \"type\": \"string\",\n",
    "                        \"description\": \"yyyy-MM-dd 形式のチェックイン日。年の指定がない場合は2024年を指定する。\"\n",
    "                    },\n",
    "                    \"checkoutDate\": {\n",
    "                        \"type\": \"string\",\n",
    "                        \"description\": \"yyyy-MM-dd 形式のチェックアウト日。年の指定がない場合は2024年を指定する。\"\n",
    "                    },\n",
    "                    \"maxCharge\": {\n",
    "                        \"type\": \"integer\",\n",
    "                        \"description\": \"上限金額, int 0 to 999999999\"\n",
    "                    },\n",
    "                    \"adultNum\": {\n",
    "                        \"type\": \"integer\",\n",
    "                        \"description\": \"宿泊者数, int 1 to 99\"\n",
    "                    }\n",
    "                },\n",
    "                \"required\": [\"latitude\", \"longitude\", \"searchRadius\", \"checkinDate\", \"checkoutDate\"]\n",
    "            }\n",
    "        }\n",
    "    },\n",
    "   {\n",
    "        \"type\": \"function\",\n",
    "        \"function\": {\n",
    "            \"name\": \"searchTransportation\",\n",
    "            \"description\": \"交通機関の検索と予約を行います。\",\n",
    "            \"parameters\": {\n",
    "                \"type\": \"object\",\n",
    "                \"properties\": {\n",
    "                    \"transportType\": {\n",
    "                        \"type\": \"string\",\n",
    "                        \"description\": \"交通機関の種類（例：飛行機、列車、バスなど）\"\n",
    "                    },\n",
    "                    \"origin\": {\n",
    "                        \"type\": \"string\",\n",
    "                        \"description\": \"出発地点\"\n",
    "                    },\n",
    "                    \"destination\": {\n",
    "                        \"type\": \"string\",\n",
    "                        \"description\": \"目的地点\"\n",
    "                    },\n",
    "                    \"departureDate\": {\n",
    "                        \"type\": \"string\",\n",
    "                        \"description\": \"出発日（YYYY-MM-DD形式）\"\n",
    "                    },\n",
    "                    \"returnDate\": {\n",
    "                        \"type\": \"string\",\n",
    "                        \"description\": \"帰りの日付（往復の場合）\"\n",
    "                    },\n",
    "                    \"passengers\": {\n",
    "                        \"type\": \"integer\",\n",
    "                        \"description\": \"乗客の人数\"\n",
    "                    }\n",
    "                },\n",
    "                \"required\": [\n",
    "                    \"transportType\",\n",
    "                    \"origin\",\n",
    "                    \"destination\",\n",
    "                    \"departureDate\",\n",
    "                    \"passengers\"\n",
    "                ]\n",
    "            }\n",
    "        }\n",
    "    }\n",
    "]\n"
   ]
  },
  {
   "cell_type": "code",
   "execution_count": null,
   "metadata": {},
   "outputs": [],
   "source": [
    "# Create an assistant\n",
    "assistant = client.beta.assistants.create(\n",
    "    name=\"Travel Assistant\",\n",
    "    instructions=\"\"\"\n",
    "あなたは Contoso 社の社員の出張を支援するためのアシスタントです。あなたは以下の業務を遂行します。\n",
    " - 旅程を作成します\n",
    " - ホテルを検索したり予約します\n",
    " - 交通機関を検索します\n",
    " - 出張で行くべきレストランや居酒屋を提案します\n",
    " - 出張にかかる概算費用を計算します\n",
    "\n",
    "#制約事項\n",
    " - ユーザーからのメッセージは日本語で入力されます\n",
    " - ユーザーからのメッセージから忠実に情報を抽出し、それに基づいて応答を生成します。\n",
    " - ユーザーからのメッセージに勝手に情報を追加したり、不要な改行文字 \\n を追加してはいけません\n",
    "\n",
    "\"\"\",\n",
    "    tools=tools_list,\n",
    "    model=\"gpt-4-1106-preview\" #You must replace this value with the deployment name for your model.\n",
    ")"
   ]
  },
  {
   "cell_type": "code",
   "execution_count": null,
   "metadata": {},
   "outputs": [],
   "source": [
    "assistant"
   ]
  },
  {
   "cell_type": "markdown",
   "metadata": {},
   "source": [
    "## アシスタントを一覧表示\n",
    "使用するアシスタントを一覧表示します。"
   ]
  },
  {
   "cell_type": "code",
   "execution_count": null,
   "metadata": {},
   "outputs": [],
   "source": [
    "assistants = client.beta.assistants.list()\n",
    "print(assistants.model_dump_json(indent=2))"
   ]
  },
  {
   "cell_type": "code",
   "execution_count": null,
   "metadata": {},
   "outputs": [],
   "source": [
    "for assistant in assistants.data:\n",
    "    print(f\"{assistant.id}: {assistant.name}\")"
   ]
  },
  {
   "cell_type": "markdown",
   "metadata": {},
   "source": [
    "## アシスタントを取得\n",
    "特定のアシスタントにアクセスするには `assistant_id` を指定することで Assistant オブジェクトを取得できます。"
   ]
  },
  {
   "cell_type": "code",
   "execution_count": null,
   "metadata": {},
   "outputs": [],
   "source": [
    "assistant = client.beta.assistants.retrieve(assistant_id=\"Your Assistant ID\") \n",
    "print(assistant.model_dump_json(indent=2))"
   ]
  },
  {
   "cell_type": "markdown",
   "metadata": {},
   "source": [
    "### アシスタントをアップデート\n",
    "途中でアシスタントの設定を修正したい場合、`assistant_id` を指定してアップデートできる。"
   ]
  },
  {
   "cell_type": "code",
   "execution_count": null,
   "metadata": {},
   "outputs": [],
   "source": [
    "assistant = client.beta.assistants.update(assistant_id=\"Your Assistant ID\",\n",
    "    name=\"Travel Assistant\",\n",
    "    instructions=\"\"\"\n",
    "あなたは Contoso 社の社員の出張を支援するためのアシスタントです。あなたは以下の業務を遂行します。\n",
    " - 旅程を作成します\n",
    " - ホテルを検索したり予約します\n",
    " - 交通機関を検索します\n",
    " - 出張で行くべきレストランや居酒屋を提案します\n",
    " - 出張にかかる概算費用を計算します\n",
    " \n",
    "#制約事項\n",
    " - ユーザーからのメッセージは日本語で入力されます\n",
    " - ユーザーからのメッセージから忠実に情報を抽出し、それに基づいて応答を生成します。\n",
    " - ユーザーからのメッセージに勝手に情報を追加したり、不要な改行文字 \\n を追加してはいけません\n",
    "\n",
    "\"\"\",\n",
    "    tools=tools_list,\n",
    "    model=\"gpt-4-0125-preview\" #You must replace this value with the deployment name for your model.\n",
    "    )\n",
    "\n",
    "assistant"
   ]
  },
  {
   "cell_type": "markdown",
   "metadata": {},
   "source": [
    "## スレッドを作成する\n",
    "スレッドとメッセージは、アシスタントとユーザーの会話セッションを表します。スレッドに保存できるメッセージの数に制限はありません。メッセージのサイズがモデルのコンテキストウィンドウを超えると、スレッドはコンテキストウィンドウに収まるできるだけ多くのメッセージを含めようとし、最も古いメッセージを削除します。\n",
    "\n",
    "このようにメッセージの初期リストを持つスレッドを作成することができます：\n"
   ]
  },
  {
   "cell_type": "code",
   "execution_count": null,
   "metadata": {},
   "outputs": [],
   "source": [
    "# Create a thread\n",
    "thread = client.beta.threads.create()\n",
    "print(thread.model_dump_json(indent=2))"
   ]
  },
  {
   "cell_type": "markdown",
   "metadata": {},
   "source": [
    "## スレッドの取得\n",
    "特定のスレッドにアクセスするには、`thread_id` を指定することでスレッドオブジェクトを取得できます。"
   ]
  },
  {
   "cell_type": "code",
   "execution_count": null,
   "metadata": {},
   "outputs": [],
   "source": [
    "thread = client.beta.threads.retrieve(thread_id=\"Your Thread ID\")\n",
    "print(thread)"
   ]
  },
  {
   "cell_type": "markdown",
   "metadata": {},
   "source": [
    "メッセージにはテキスト、画像、ファイルを含めることができます。現時点では、ユーザーが作成したメッセージに画像ファイルを含めることはできませんが、将来的に対応する予定です。また、メッセージのファイルサイズとトークンの上限は、アシスタントの場合と同じです（ファイルサイズの上限は512MB、トークンの上限は2,000,000）。"
   ]
  },
  {
   "cell_type": "markdown",
   "metadata": {},
   "source": [
    "## スレッドメッセージの一覧表示"
   ]
  },
  {
   "cell_type": "code",
   "execution_count": null,
   "metadata": {},
   "outputs": [],
   "source": [
    "messages = client.beta.threads.messages.list(\n",
    "  thread_id=thread.id\n",
    ")\n",
    "\n",
    "print(messages.model_dump_json(indent=2))"
   ]
  },
  {
   "cell_type": "code",
   "execution_count": null,
   "metadata": {},
   "outputs": [],
   "source": [
    "for message in messages.data:\n",
    "    print(f\"{message.id}: {message.content[0].text.value}\")"
   ]
  },
  {
   "cell_type": "markdown",
   "metadata": {},
   "source": [
    "## Helper Functions "
   ]
  },
  {
   "cell_type": "code",
   "execution_count": null,
   "metadata": {},
   "outputs": [],
   "source": [
    "#Run の非同期処理が完了するまでそのステータスを監視し続けるためのループを実装\n",
    "import time\n",
    "def wait_on_run(run, thread_id):\n",
    "    # 最初のステータス出力\n",
    "    print(f\"Initial Run status: {run.status}\")\n",
    "    while run.status == \"queued\" or run.status == \"in_progress\":\n",
    "        run = client.beta.threads.runs.retrieve(\n",
    "            thread_id=thread_id,\n",
    "            run_id=run.id,\n",
    "        )\n",
    "        print(f\"Run status: {run.status}\")\n",
    "        time.sleep(1)\n",
    "    # ループ終了後の最終ステータス出力\n",
    "    print(f\"Final Run status: {run.status}\\n\")\n",
    "    return run"
   ]
  },
  {
   "cell_type": "code",
   "execution_count": null,
   "metadata": {},
   "outputs": [],
   "source": [
    "#指定されたスレッドにユーザーメッセージを送信し、その後に同じスレッドで Run を開始\n",
    "def submit_message(assistant_id, thread_id, user_message):\n",
    "    client.beta.threads.messages.create(\n",
    "        thread_id=thread_id, role=\"user\", content=user_message\n",
    "    )\n",
    "    return client.beta.threads.runs.create(\n",
    "        thread_id=thread_id,\n",
    "        assistant_id=assistant_id,\n",
    "    )\n",
    "#指定されたスレッドのメッセージを取得\n",
    "def get_response(thread_id):\n",
    "    return client.beta.threads.messages.list(thread_id=thread_id, order=\"asc\")"
   ]
  },
  {
   "cell_type": "code",
   "execution_count": null,
   "metadata": {},
   "outputs": [],
   "source": [
    "# 新しいスレッドを作成し、メッセージを送信する\n",
    "def create_thread_and_run(user_input):\n",
    "    thread = client.beta.threads.create()\n",
    "    run = submit_message(assistant.id, thread.id, user_input)\n",
    "    return thread, run\n",
    "\n",
    "# すでに作成されたスレッドにメッセージを送信する\n",
    "def create_run(user_input):\n",
    "    run = submit_message(assistant.id, thread.id, user_input)\n",
    "    return run"
   ]
  },
  {
   "cell_type": "code",
   "execution_count": null,
   "metadata": {},
   "outputs": [],
   "source": [
    "# Pretty printing helper\n",
    "# メッセージのリストを受け取り、それらの role とテキスト内容を整形して出力\n",
    "def pretty_print(messages):\n",
    "    print(\"# Messages\")\n",
    "    for m in messages:\n",
    "        print(f\"{m.role}: {m.content[0].text.value}\")\n",
    "    print()"
   ]
  },
  {
   "cell_type": "markdown",
   "metadata": {},
   "source": [
    "### Run\n",
    "\n",
    "作成したスレッドが、先ほど作成したアシスタントとどのように関連付けられているかに注目してください。**スレッドはアシスタントから独立して存在**します。\n",
    "\n",
    "指定されたスレッドに対してアシスタントから完了を得るには、Run を作成する必要があります。Run を作成すると、アシスタントはスレッドのメッセージを見て、1つの応答を追加するか、ツールを使用してアクションを実行する必要があるか判断します。\n",
    "\n",
    "> ***注***：\n",
    "> Assistants API では、Run によってアシスタントが 1 つまたは複数のツールを使用し、スレッドに複数のメッセージを追加する可能性があります。\n",
    "\n",
    "Run を作成しましょう。`threads.runs.create` は `submit_message` ヘルパー関数の中で記述しています。アシスタントとスレッドの両方を指定する必要があります。\n"
   ]
  },
  {
   "cell_type": "code",
   "execution_count": null,
   "metadata": {},
   "outputs": [],
   "source": [
    "#run = create_run(\"2/10に大阪駅近辺で2人で和食の居酒屋を探しています\")\n",
    "run = create_run(\"2/14に大阪駅近辺で1人で泊まれるビジネスホテルを探しています。\")\n",
    "#run = create_run(\"2/10に東京駅から大阪駅まで新幹線のチケットを探しています。\")\n",
    "#run = create_run(\"2/10から2/12まで大阪に出張します。2/10の10:00にイベント会場に到着する必要があります。出張のプランを作成してください。\")\n",
    "\n",
    "run = wait_on_run(run, thread.id)\n",
    "# スレッドのメッセージ一覧を出力 client.beta.threads.messages.list\n",
    "pretty_print(get_response(thread.id))\n"
   ]
  },
  {
   "attachments": {
    "image.png": {
     "image/png": "[encoded data removed]"
    }
   },
   "cell_type": "markdown",
   "metadata": {},
   "source": [
    "Chat Completions API で完了を作成するのとは異なり、**Run の作成は非同期操作** です。Runのメタデータはすぐに返され、そのメタデータには `status` が含まれます。アシスタントが操作（ツールの使用やメッセージの追加など）を実行すると、`status`は更新されます。\n",
    "\n",
    "![image.png](attachment:image.png)\n",
    "\n",
    "アシスタントの処理がいつ完了したかを知るには、ループ内で Run をポーリングします。(ここでは `queued` または `in_progress` ステータスのみをチェックしていますが、実際にはランが [さまざまなステータス変更](https://platform.openai.com/docs/api-reference/runs/object#runs/object-status) を受けることがあります。(これらはステップと呼ばれ、後で説明する）。\n"
   ]
  },
  {
   "cell_type": "markdown",
   "metadata": {},
   "source": [
    "`required_action` フィールドは、Tool が実行され、その出力がアシスタントに送信されるのを待っていることを示します。\n",
    "\n",
    "> 注意\n",
    "> この場合、ツールの呼び出しは1つだけですが、実際にはアシスタントが複数のツールを呼び出すこともあります。\n"
   ]
  },
  {
   "cell_type": "markdown",
   "metadata": {},
   "source": [
    "### Messages\n",
    "Run が完了したので、スレッドのメッセージを一覧表示して、アシスタントが追加したメッセージを確認できます。\n",
    "ご覧の通り、メッセージは逆順に並んでいます。これは最新の結果が常に最初の `ページ` に表示されるようにするためです（結果はページ分割できるので）。これはチャット完了 API のメッセージとは逆の順序なので、注意してください。\n"
   ]
  },
  {
   "cell_type": "code",
   "execution_count": null,
   "metadata": {},
   "outputs": [],
   "source": [
    "messages = client.beta.threads.messages.list(\n",
    "  thread_id=thread.id\n",
    ")\n",
    "\n",
    "print(messages.model_dump_json(indent=2))"
   ]
  },
  {
   "cell_type": "markdown",
   "metadata": {},
   "source": [
    "## Tools\n",
    "Assistants API の重要な機能は、Code Interpreter、検索、カスタム関数などの Tool をアシスタントに装備できることです。ツールは最大 128 個まで登録できます。\n",
    "\n",
    "アシスタントが正確に何をしているのかもっと詳しく知りたい場合は、Run の**ステップ**を見る必要があります。\n",
    "\n",
    "### ステップ\n",
    "Run の `status` が `requires_action` になると Run の実行が一時停止され、Tool の実行結果の待ち状態となります。この時、当該 Run の内部ではどうなっているのでしょうか。Run の下位の実行単位である Run step を参照してみましょう。"
   ]
  },
  {
   "cell_type": "code",
   "execution_count": null,
   "metadata": {},
   "outputs": [],
   "source": [
    "run_steps = client.beta.threads.runs.steps.list(\n",
    "    thread_id=thread.id, run_id=run.id, order=\"asc\"\n",
    ")\n",
    "\n",
    "print(run_steps.model_dump_json(indent=2))"
   ]
  },
  {
   "cell_type": "markdown",
   "metadata": {},
   "source": [
    "呼ぶべき Tool は `step_details` の中にあります。"
   ]
  },
  {
   "cell_type": "code",
   "execution_count": null,
   "metadata": {},
   "outputs": [],
   "source": [
    "for step in run_steps.data:\n",
    "    step_details = step.step_details\n",
    "    print(step_details.model_dump_json(indent=2))"
   ]
  },
  {
   "cell_type": "markdown",
   "metadata": {},
   "source": [
    "### tool_call オブジェクトの取得\n",
    "Assistant API の Function calling はあくまで呼ぶべき関数の選択とパラメータの抽出のみしか行いません。**実際の関数実行はアプリケーション側で行います**。関数の実行に必要な `name` と `arguments` を解析して必要な情報を抽出しましょう。\n"
   ]
  },
  {
   "cell_type": "code",
   "execution_count": null,
   "metadata": {},
   "outputs": [],
   "source": [
    "tool_call = run.required_action.submit_tool_outputs.tool_calls[0]\n",
    "name = tool_call.function.name\n",
    "arguments = json.loads(tool_call.function.arguments)\n",
    "arguments"
   ]
  },
  {
   "cell_type": "markdown",
   "metadata": {},
   "source": [
    "## 空きホテルを検索\n",
    "`tool_call` オブジェクトから得られた検索パラメータを `search_vacant_hotels` 関数のパラメータとして流し込みます。"
   ]
  },
  {
   "cell_type": "code",
   "execution_count": null,
   "metadata": {},
   "outputs": [],
   "source": [
    "import requests\n",
    "#https://webservice.rakuten.co.jp/documentation/vacant-hotel-search\n",
    "def search_vacant_hotels(applicationId, latitude, longitude, searchRadius, checkinDate, checkoutDate, maxCharge=50000, adultNum=1, page=1, hits=2, response_format='json'):\n",
    "    base_url = \"https://app.rakuten.co.jp/services/api/Travel/VacantHotelSearch/20170426\"\n",
    "    params = {\n",
    "        \"applicationId\": applicationId,\n",
    "        \"format\": response_format,\n",
    "        \"page\": page,\n",
    "        \"hits\": hits,\n",
    "        \"latitude\": latitude, # ex:35.6065914\n",
    "        \"longitude\": longitude, # ex:139.7513225\n",
    "        \"searchRadius\": searchRadius,  #緯度経度検索時の検索半径(単位km), 0.1 to 3.0\n",
    "        \"datumType\": 1, # WGS84\n",
    "        \"checkinDate\": checkinDate, # yyyy-MM-dd\n",
    "        \"checkoutDate\": checkoutDate, # yyyy-MM-dd\n",
    "        \"maxCharge\": maxCharge, # 上限金額, int 0 to 999999999\n",
    "        \"adultNum\": adultNum # 宿泊者数, int 1 to 99\n",
    "    }\n",
    "    \n",
    "    response = requests.get(base_url, params=params)\n",
    "    \n",
    "    # レスポンス形式に応じて結果を処理\n",
    "    if response_format == 'json':\n",
    "        response_data = response.json()\n",
    "\n",
    "        if 'error' in response_data:\n",
    "            error_description = response_data.get('error_description', 'No error description provided.')\n",
    "            error = response_data.get('error', 'Unknown error')\n",
    "            \n",
    "            # エラーメッセージを処理（またはログに記録）\n",
    "            print(f\"Error: {error}, Description: {error_description}\")\n",
    "            \n",
    "            # エラー情報を含むレスポンスオブジェクトまたはメッセージを返す\n",
    "            return {\"error\": error, \"error_description\": error_description}\n",
    "        else:\n",
    "            # エラーがない場合は、通常通りレスポンスデータを返す\n",
    "            hotels = []\n",
    "            for hotel_group in response_data[\"hotels\"]:\n",
    "                h = hotel_group[\"hotel\"][0][\"hotelBasicInfo\"]\n",
    "                rooms = []\n",
    "                for item in hotel_group[\"hotel\"][1:]:\n",
    "                    if \"roomInfo\" in item:\n",
    "                        roomplans = {\"roomName\": item[\"roomInfo\"][0][\"roomBasicInfo\"][\"roomName\"],\n",
    "                            \"stayDate\": item[\"roomInfo\"][1][\"dailyCharge\"][\"stayDate\"],\n",
    "                            \"rakutenCharge\": item[\"roomInfo\"][1][\"dailyCharge\"][\"rakutenCharge\"]}\n",
    "                        rooms.append(roomplans)\n",
    "\n",
    "                hotel = {\"hotelNo\": h[\"hotelNo\"],\n",
    "                        \"hotelName\": h[\"hotelName\"],\n",
    "                        \"hotelSpecial\": h[\"hotelSpecial\"],\n",
    "                        \"access\": h[\"access\"],\n",
    "                        \"reviewAverage\": h[\"reviewAverage\"],\n",
    "                        \"hotelInformationUrl\": h[\"hotelInformationUrl\"],\n",
    "                        \"roomplans\": rooms}\n",
    "                hotels.append(hotel)\n",
    "            \n",
    "            return hotels\n",
    "    else:\n",
    "        return response.text  # XML形式の場合は、レスポンスのテキストをそのまま返す\n",
    "\n",
    "applicationId = \"Your API key\"  # APIキーを設定\n",
    "latitude = arguments.get(\"latitude\", None)\n",
    "longitude = arguments.get(\"longitude\", None)\n",
    "searchRadius = arguments.get(\"searchRadius\", None)\n",
    "checkinDate = arguments.get(\"checkinDate\", \"2024-02-14\")\n",
    "checkoutDate = arguments.get(\"checkoutDate\", \"2024-02-15\")\n",
    "maxCharge = arguments.get(\"maxCharge\", 50000)\n",
    "adultNum = arguments.get(\"adultNum\", 1)\n",
    "\n",
    "response = search_vacant_hotels(applicationId, latitude, longitude, searchRadius, checkinDate, checkoutDate, maxCharge, adultNum, response_format='json')\n",
    "response"
   ]
  },
  {
   "cell_type": "code",
   "execution_count": null,
   "metadata": {},
   "outputs": [],
   "source": [
    "input = {\"answer\": response, \"success\": True}"
   ]
  },
  {
   "cell_type": "markdown",
   "metadata": {},
   "source": [
    "### ツール出力の送信\n",
    "それでは、レスポンスをアシスタントに送信してみましょう。先ほど解析した `tool_call` で見つかった `tool_call` ID が必要です。また、レスポンスの `list` を `str` にエンコードする必要があります。\n"
   ]
  },
  {
   "cell_type": "code",
   "execution_count": null,
   "metadata": {},
   "outputs": [],
   "source": [
    "run = client.beta.threads.runs.submit_tool_outputs(\n",
    "    thread_id=thread.id,\n",
    "    run_id=run.id,\n",
    "    tool_outputs=[\n",
    "        {\n",
    "            \"tool_call_id\": tool_call.id,\n",
    "            \"output\": json.dumps(input),\n",
    "        }\n",
    "    ],\n",
    ")\n",
    "\n",
    "run = wait_on_run(run, thread.id)\n",
    "# スレッドのメッセージ一覧を出力 client.beta.threads.messages.list\n",
    "pretty_print(get_response(thread.id))"
   ]
  },
  {
   "cell_type": "markdown",
   "metadata": {},
   "source": [
    "これでもう一度 Run が完了するのを待ち、Run ステップをチェックします。\n"
   ]
  },
  {
   "cell_type": "code",
   "execution_count": null,
   "metadata": {},
   "outputs": [],
   "source": [
    "run_steps = client.beta.threads.runs.steps.list(\n",
    "    thread_id=thread.id, run_id=run.id, order=\"asc\"\n",
    ")\n",
    "\n",
    "for step in run_steps.data:\n",
    "    step_details = step.step_details\n",
    "    print(step_details.model_dump_json(indent=2))\n"
   ]
  },
  {
   "cell_type": "markdown",
   "metadata": {},
   "source": [
    "2つのステップの `step_details` を見ることができます。\n",
    "\n",
    "1. `tool_calls` (複数形。1つのステップで複数になる可能性があるため)\n",
    "2. メッセージの作成\n",
    "\n",
    "最初のステップは `tool_calls` で、特に `code_interpreter` や `function` を使っています。\n",
    "\n",
    "- `input` はツールが呼ばれる前に生成された Python コード\n",
    "- Tool を実行した結果の `output`\n",
    "\n",
    "2つ目のステップは `message_creation` で、結果をユーザーに伝えるためにスレッドに追加された `message` が含まれます。"
   ]
  },
  {
   "cell_type": "code",
   "execution_count": null,
   "metadata": {},
   "outputs": [],
   "source": [
    "messages = client.beta.threads.messages.list(\n",
    "  thread_id=thread.id\n",
    ")\n",
    "\n",
    "print(messages.model_dump_json(indent=2))"
   ]
  },
  {
   "cell_type": "markdown",
   "metadata": {},
   "source": [
    "# 2. レストラン検索"
   ]
  },
  {
   "cell_type": "code",
   "execution_count": null,
   "metadata": {},
   "outputs": [],
   "source": [
    "run = create_run(\"有楽町駅近辺でイタリアンのレストランを探しています\")\n",
    "#run = create_run(\"2/10 なにわ亭で15000円、2/11 朝食3000円、新幹線代は片道で14,920円でした。合計金額を計算してください\")\n",
    "#run = create_run(\"2/10に大阪駅近辺で1人で泊まれるビジネスホテルを探しています。\")\n",
    "#run = create_run(\"2/10に東京駅から大阪駅まで新幹線のチケットを探しています。\")\n",
    "#run = create_run(\"2/10から2/12まで大阪に出張します。2/10の10:00にイベント会場に到着する必要があります。出張のプランを作成してください。\")\n",
    "\n",
    "run = wait_on_run(run, thread.id)\n",
    "# スレッドのメッセージ一覧を出力 client.beta.threads.messages.list\n",
    "pretty_print(get_response(thread.id))"
   ]
  },
  {
   "cell_type": "code",
   "execution_count": null,
   "metadata": {},
   "outputs": [],
   "source": [
    "run_steps = client.beta.threads.runs.steps.list(\n",
    "    thread_id=thread.id, run_id=run.id, order=\"asc\"\n",
    ")\n",
    "\n",
    "print(run_steps.model_dump_json(indent=2))"
   ]
  },
  {
   "cell_type": "code",
   "execution_count": null,
   "metadata": {},
   "outputs": [],
   "source": [
    "for step in run_steps.data:\n",
    "    step_details = step.step_details\n",
    "    print(step_details.model_dump_json(indent=2))"
   ]
  },
  {
   "cell_type": "code",
   "execution_count": null,
   "metadata": {},
   "outputs": [],
   "source": [
    "tool_call = run.required_action.submit_tool_outputs.tool_calls[0]\n",
    "tool_call"
   ]
  },
  {
   "cell_type": "code",
   "execution_count": null,
   "metadata": {},
   "outputs": [],
   "source": [
    "name = tool_call.function.name\n",
    "arguments = json.loads(tool_call.function.arguments)\n",
    "arguments"
   ]
  },
  {
   "cell_type": "code",
   "execution_count": null,
   "metadata": {},
   "outputs": [],
   "source": [
    "import requests\n",
    "\n",
    "def search_hotpepper_shops(api_key, keyword=None, private_room=0, start=1, count=3, response_format='json'):\n",
    "    base_url = \"http://webservice.recruit.co.jp/hotpepper/gourmet/v1/\"\n",
    "    params = {\n",
    "        \"key\": api_key,\n",
    "        \"format\": response_format,\n",
    "        \"start\": start,\n",
    "        \"count\": count,\n",
    "        \"private_room\": private_room,  # 個室ありの店舗のみを検索, 0:絞り込まない, 1:絞り込む\n",
    "        #\"budget\": \"B005\"\n",
    "    }\n",
    "    \n",
    "    # キーワードが指定されている場合、パラメータに追加\n",
    "    if keyword:\n",
    "        params[\"keyword\"] = keyword\n",
    "\n",
    "    response = requests.get(base_url, params=params)\n",
    "    \n",
    "    # レスポンス形式に応じて結果を処理\n",
    "    if response_format == 'json':\n",
    "        return response.json()  # JSON形式のレスポンスを返す\n",
    "    else:\n",
    "        return response.text  # XML形式の場合は、レスポンスのテキストをそのまま返す\n",
    "\n",
    "# 使用例\n",
    "api_key = \"Your API Key\"  # APIキーを設定\n",
    "keyword = arguments.get(\"keyword\")  # 検索キーワードを設定\n",
    "private_room = arguments.get(\"private_room\", 0) # 個室ありの店舗のみを検索, 0:絞り込まない, 1:絞り込む\n",
    "response = search_hotpepper_shops(api_key, keyword=keyword, private_room=private_room, response_format='json')\n",
    "\n",
    "#print(response)  # 検索結果を表示\n"
   ]
  },
  {
   "cell_type": "code",
   "execution_count": null,
   "metadata": {},
   "outputs": [],
   "source": [
    "shops = []\n",
    "for s in response[\"results\"][\"shop\"]:\n",
    "    shop = {\"name\": s[\"name\"],\n",
    "            \"address\": s[\"address\"],\n",
    "            \"station_name\": s[\"station_name\"],\n",
    "            \"access\": s[\"access\"],\n",
    "            \"genre\": s[\"genre\"],\n",
    "            \"budgetAverage\": s[\"budget\"][\"average\"],\n",
    "            \"open\": s[\"open\"],\n",
    "            \"close\": s[\"close\"]\n",
    "    }\n",
    "    shops.append(shop)\n",
    "\n",
    "shops"
   ]
  },
  {
   "cell_type": "code",
   "execution_count": null,
   "metadata": {},
   "outputs": [],
   "source": [
    "input={\"answer\": shops, \"success\": True}\n",
    "#input={\"answer\": \"見つかりませんでした。終了します\", \"success\": True}\n",
    "\n",
    "run = client.beta.threads.runs.submit_tool_outputs(\n",
    "    thread_id=thread.id,\n",
    "    run_id=run.id,\n",
    "    tool_outputs=[\n",
    "        {\n",
    "            \"tool_call_id\": tool_call.id,\n",
    "            \"output\": json.dumps(input),\n",
    "        }\n",
    "    ],\n",
    ")\n",
    "\n",
    "run = wait_on_run(run, thread.id)\n",
    "# スレッドのメッセージ一覧を出力 client.beta.threads.messages.list\n",
    "pretty_print(get_response(thread.id))"
   ]
  },
  {
   "cell_type": "markdown",
   "metadata": {},
   "source": [
    "### Run のキャンセル\n",
    "`in_progress` 状態の Run をキャンセルします。"
   ]
  },
  {
   "cell_type": "code",
   "execution_count": null,
   "metadata": {},
   "outputs": [],
   "source": [
    "ret = client.beta.threads.runs.cancel(thread_id=thread.id, run_id=\"Your Run ID\")\n",
    "ret"
   ]
  },
  {
   "cell_type": "markdown",
   "metadata": {},
   "source": [
    "### スレッドの削除"
   ]
  },
  {
   "cell_type": "code",
   "execution_count": null,
   "metadata": {},
   "outputs": [],
   "source": [
    "#client.beta.threads.delete(thread_id=\"Your Thread ID\")"
   ]
  },
  {
   "cell_type": "markdown",
   "metadata": {},
   "source": [
    "### アシスタントの削除"
   ]
  },
  {
   "cell_type": "code",
   "execution_count": null,
   "metadata": {},
   "outputs": [],
   "source": [
    "#lient.beta.assistants.delete(\"Your Assistant ID\")"
   ]
  }
 ],
 "metadata": {
  "kernelspec": {
   "display_name": "py1226",
   "language": "python",
   "name": "python3"
  },
  "language_info": {
   "codemirror_mode": {
    "name": "ipython",
    "version": 3
   },
   "file_extension": ".py",
   "mimetype": "text/x-python",
   "name": "python",
   "nbconvert_exporter": "python",
   "pygments_lexer": "ipython3",
   "version": "3.10.13"
  }
 },
 "nbformat": 4,
 "nbformat_minor": 2
}
